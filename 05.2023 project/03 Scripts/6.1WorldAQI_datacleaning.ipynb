{
 "cells": [
  {
   "cell_type": "code",
   "execution_count": 6,
   "id": "2ecba4dc",
   "metadata": {},
   "outputs": [],
   "source": [
    "#import libraries\n",
    "import pandas as pd\n",
    "import numpy as np\n",
    "import os"
   ]
  },
  {
   "cell_type": "code",
   "execution_count": 7,
   "id": "7b2c319e",
   "metadata": {
    "scrolled": true
   },
   "outputs": [],
   "source": [
    "#Import data\n",
    "df_orig=pd.read_csv(r'C:\\Users\\chloe\\Documents\\05.2023 project\\02 Data\\Original data\\WorldAQI.csv', index_col = False)"
   ]
  },
  {
   "cell_type": "code",
   "execution_count": 8,
   "id": "137da021",
   "metadata": {},
   "outputs": [
    {
     "data": {
      "text/html": [
       "<div>\n",
       "<style scoped>\n",
       "    .dataframe tbody tr th:only-of-type {\n",
       "        vertical-align: middle;\n",
       "    }\n",
       "\n",
       "    .dataframe tbody tr th {\n",
       "        vertical-align: top;\n",
       "    }\n",
       "\n",
       "    .dataframe thead th {\n",
       "        text-align: right;\n",
       "    }\n",
       "</style>\n",
       "<table border=\"1\" class=\"dataframe\">\n",
       "  <thead>\n",
       "    <tr style=\"text-align: right;\">\n",
       "      <th></th>\n",
       "      <th>Country</th>\n",
       "      <th>City</th>\n",
       "      <th>AQI Value</th>\n",
       "      <th>AQI Category</th>\n",
       "      <th>CO AQI Value</th>\n",
       "      <th>CO AQI Category</th>\n",
       "      <th>Ozone AQI Value</th>\n",
       "      <th>Ozone AQI Category</th>\n",
       "      <th>NO2 AQI Value</th>\n",
       "      <th>NO2 AQI Category</th>\n",
       "      <th>PM2.5 AQI Value</th>\n",
       "      <th>PM2.5 AQI Category</th>\n",
       "      <th>lat</th>\n",
       "      <th>lng</th>\n",
       "    </tr>\n",
       "  </thead>\n",
       "  <tbody>\n",
       "    <tr>\n",
       "      <th>0</th>\n",
       "      <td>Russian Federation</td>\n",
       "      <td>Praskoveya</td>\n",
       "      <td>51</td>\n",
       "      <td>Moderate</td>\n",
       "      <td>1</td>\n",
       "      <td>Good</td>\n",
       "      <td>36</td>\n",
       "      <td>Good</td>\n",
       "      <td>0</td>\n",
       "      <td>Good</td>\n",
       "      <td>51</td>\n",
       "      <td>Moderate</td>\n",
       "      <td>44.7444</td>\n",
       "      <td>44.2031</td>\n",
       "    </tr>\n",
       "    <tr>\n",
       "      <th>1</th>\n",
       "      <td>Brazil</td>\n",
       "      <td>Presidente Dutra</td>\n",
       "      <td>41</td>\n",
       "      <td>Good</td>\n",
       "      <td>1</td>\n",
       "      <td>Good</td>\n",
       "      <td>5</td>\n",
       "      <td>Good</td>\n",
       "      <td>1</td>\n",
       "      <td>Good</td>\n",
       "      <td>41</td>\n",
       "      <td>Good</td>\n",
       "      <td>-5.2900</td>\n",
       "      <td>-44.4900</td>\n",
       "    </tr>\n",
       "    <tr>\n",
       "      <th>2</th>\n",
       "      <td>Brazil</td>\n",
       "      <td>Presidente Dutra</td>\n",
       "      <td>41</td>\n",
       "      <td>Good</td>\n",
       "      <td>1</td>\n",
       "      <td>Good</td>\n",
       "      <td>5</td>\n",
       "      <td>Good</td>\n",
       "      <td>1</td>\n",
       "      <td>Good</td>\n",
       "      <td>41</td>\n",
       "      <td>Good</td>\n",
       "      <td>-11.2958</td>\n",
       "      <td>-41.9869</td>\n",
       "    </tr>\n",
       "    <tr>\n",
       "      <th>3</th>\n",
       "      <td>Italy</td>\n",
       "      <td>Priolo Gargallo</td>\n",
       "      <td>66</td>\n",
       "      <td>Moderate</td>\n",
       "      <td>1</td>\n",
       "      <td>Good</td>\n",
       "      <td>39</td>\n",
       "      <td>Good</td>\n",
       "      <td>2</td>\n",
       "      <td>Good</td>\n",
       "      <td>66</td>\n",
       "      <td>Moderate</td>\n",
       "      <td>37.1667</td>\n",
       "      <td>15.1833</td>\n",
       "    </tr>\n",
       "    <tr>\n",
       "      <th>4</th>\n",
       "      <td>Poland</td>\n",
       "      <td>Przasnysz</td>\n",
       "      <td>34</td>\n",
       "      <td>Good</td>\n",
       "      <td>1</td>\n",
       "      <td>Good</td>\n",
       "      <td>34</td>\n",
       "      <td>Good</td>\n",
       "      <td>0</td>\n",
       "      <td>Good</td>\n",
       "      <td>20</td>\n",
       "      <td>Good</td>\n",
       "      <td>53.0167</td>\n",
       "      <td>20.8833</td>\n",
       "    </tr>\n",
       "  </tbody>\n",
       "</table>\n",
       "</div>"
      ],
      "text/plain": [
       "              Country              City  AQI Value AQI Category  CO AQI Value  \\\n",
       "0  Russian Federation        Praskoveya         51     Moderate             1   \n",
       "1              Brazil  Presidente Dutra         41         Good             1   \n",
       "2              Brazil  Presidente Dutra         41         Good             1   \n",
       "3               Italy   Priolo Gargallo         66     Moderate             1   \n",
       "4              Poland         Przasnysz         34         Good             1   \n",
       "\n",
       "  CO AQI Category  Ozone AQI Value Ozone AQI Category  NO2 AQI Value  \\\n",
       "0            Good               36               Good              0   \n",
       "1            Good                5               Good              1   \n",
       "2            Good                5               Good              1   \n",
       "3            Good               39               Good              2   \n",
       "4            Good               34               Good              0   \n",
       "\n",
       "  NO2 AQI Category  PM2.5 AQI Value PM2.5 AQI Category      lat      lng  \n",
       "0             Good               51           Moderate  44.7444  44.2031  \n",
       "1             Good               41               Good  -5.2900 -44.4900  \n",
       "2             Good               41               Good -11.2958 -41.9869  \n",
       "3             Good               66           Moderate  37.1667  15.1833  \n",
       "4             Good               20               Good  53.0167  20.8833  "
      ]
     },
     "execution_count": 8,
     "metadata": {},
     "output_type": "execute_result"
    }
   ],
   "source": [
    "#check\n",
    "df_orig.head(5)"
   ]
  },
  {
   "cell_type": "code",
   "execution_count": 9,
   "id": "de3eadcf",
   "metadata": {},
   "outputs": [
    {
     "data": {
      "text/plain": [
       "(16695, 14)"
      ]
     },
     "execution_count": 9,
     "metadata": {},
     "output_type": "execute_result"
    }
   ],
   "source": [
    "#conducting some basic data profiling to check the data meets requirements of the brief:\n",
    "#1.columns and rows\n",
    "df_orig.shape"
   ]
  },
  {
   "cell_type": "code",
   "execution_count": 10,
   "id": "e58eb302",
   "metadata": {
    "scrolled": true
   },
   "outputs": [
    {
     "name": "stdout",
     "output_type": "stream",
     "text": [
      "<class 'pandas.core.frame.DataFrame'>\n",
      "RangeIndex: 16695 entries, 0 to 16694\n",
      "Data columns (total 14 columns):\n",
      " #   Column              Non-Null Count  Dtype  \n",
      "---  ------              --------------  -----  \n",
      " 0   Country             16393 non-null  object \n",
      " 1   City                16695 non-null  object \n",
      " 2   AQI Value           16695 non-null  int64  \n",
      " 3   AQI Category        16695 non-null  object \n",
      " 4   CO AQI Value        16695 non-null  int64  \n",
      " 5   CO AQI Category     16695 non-null  object \n",
      " 6   Ozone AQI Value     16695 non-null  int64  \n",
      " 7   Ozone AQI Category  16695 non-null  object \n",
      " 8   NO2 AQI Value       16695 non-null  int64  \n",
      " 9   NO2 AQI Category    16695 non-null  object \n",
      " 10  PM2.5 AQI Value     16695 non-null  int64  \n",
      " 11  PM2.5 AQI Category  16695 non-null  object \n",
      " 12  lat                 16695 non-null  float64\n",
      " 13  lng                 16695 non-null  float64\n",
      "dtypes: float64(2), int64(5), object(7)\n",
      "memory usage: 1.8+ MB\n"
     ]
    }
   ],
   "source": [
    "#overview of the data\n",
    "df_orig.info()"
   ]
  },
  {
   "cell_type": "markdown",
   "id": "25d5c752",
   "metadata": {},
   "source": [
    "##Data cleaning"
   ]
  },
  {
   "cell_type": "markdown",
   "id": "91171557",
   "metadata": {},
   "source": [
    "#dropping unnecessary columns in an adjusted database, keeping the original: 1. Format_name (same entry for all rows, adds nothing to the data), \n",
    "df_adj=df_orig.drop(columns=['Order','Parent Property Id','Parent Property Name','Street Number','Street Name','List of All Property Use Types at Property','3rd Largest Property Use Type','3rd Largest Property Use Type - Gross Floor Area (ft²)','District Steam Use (kBtu)'])"
   ]
  },
  {
   "cell_type": "markdown",
   "id": "6fef539d",
   "metadata": {},
   "source": [
    "#check\n",
    "df_adj.shape"
   ]
  },
  {
   "cell_type": "code",
   "execution_count": 12,
   "id": "60464ff1",
   "metadata": {},
   "outputs": [],
   "source": [
    "##removing columns with 80% or over of items missing:\n",
    "df_orij=df_orig.dropna(axis=1, thresh=int(0.8*len(df_orig)))"
   ]
  },
  {
   "cell_type": "code",
   "execution_count": 14,
   "id": "5932b7a0",
   "metadata": {},
   "outputs": [
    {
     "data": {
      "text/plain": [
       "(16695, 14)"
      ]
     },
     "execution_count": 14,
     "metadata": {},
     "output_type": "execute_result"
    }
   ],
   "source": [
    "df_orig.shape"
   ]
  },
  {
   "cell_type": "code",
   "execution_count": 15,
   "id": "001705c1",
   "metadata": {},
   "outputs": [
    {
     "data": {
      "text/plain": [
       "(16695, 14)"
      ]
     },
     "execution_count": 15,
     "metadata": {},
     "output_type": "execute_result"
    }
   ],
   "source": [
    "##removing rows with 80% or over of data\n",
    "# Keep only the rows with at least 12 non-NA values.\n",
    "df_orig = df_orig.dropna(thresh=12)\n",
    "df_orig.shape"
   ]
  },
  {
   "cell_type": "code",
   "execution_count": 17,
   "id": "54f75396",
   "metadata": {},
   "outputs": [
    {
     "data": {
      "text/plain": [
       "<bound method NDFrame.describe of                         Country              City  AQI Value AQI Category  \\\n",
       "0            Russian Federation        Praskoveya         51     Moderate   \n",
       "1                        Brazil  Presidente Dutra         41         Good   \n",
       "2                        Brazil  Presidente Dutra         41         Good   \n",
       "3                         Italy   Priolo Gargallo         66     Moderate   \n",
       "4                        Poland         Przasnysz         34         Good   \n",
       "...                         ...               ...        ...          ...   \n",
       "16690  United States of America  Highland Springs         54     Moderate   \n",
       "16691                  Slovakia            Martin         71     Moderate   \n",
       "16692                  Slovakia            Martin         71     Moderate   \n",
       "16693                    France            Sceaux         50         Good   \n",
       "16694  United States of America       Westerville         71     Moderate   \n",
       "\n",
       "       CO AQI Value CO AQI Category  Ozone AQI Value Ozone AQI Category  \\\n",
       "0                 1            Good               36               Good   \n",
       "1                 1            Good                5               Good   \n",
       "2                 1            Good                5               Good   \n",
       "3                 1            Good               39               Good   \n",
       "4                 1            Good               34               Good   \n",
       "...             ...             ...              ...                ...   \n",
       "16690             1            Good               34               Good   \n",
       "16691             1            Good               39               Good   \n",
       "16692             1            Good               39               Good   \n",
       "16693             1            Good               20               Good   \n",
       "16694             1            Good               44               Good   \n",
       "\n",
       "       NO2 AQI Value NO2 AQI Category  PM2.5 AQI Value PM2.5 AQI Category  \\\n",
       "0                  0             Good               51           Moderate   \n",
       "1                  1             Good               41               Good   \n",
       "2                  1             Good               41               Good   \n",
       "3                  2             Good               66           Moderate   \n",
       "4                  0             Good               20               Good   \n",
       "...              ...              ...              ...                ...   \n",
       "16690              5             Good               54           Moderate   \n",
       "16691              1             Good               71           Moderate   \n",
       "16692              1             Good               71           Moderate   \n",
       "16693              5             Good               50               Good   \n",
       "16694              2             Good               71           Moderate   \n",
       "\n",
       "           lat      lng  \n",
       "0      44.7444  44.2031  \n",
       "1      -5.2900 -44.4900  \n",
       "2     -11.2958 -41.9869  \n",
       "3      37.1667  15.1833  \n",
       "4      53.0167  20.8833  \n",
       "...        ...      ...  \n",
       "16690  37.5516 -77.3285  \n",
       "16691  49.0650  18.9219  \n",
       "16692  36.3385 -88.8513  \n",
       "16693  48.7786   2.2906  \n",
       "16694  40.1241 -82.9210  \n",
       "\n",
       "[16695 rows x 14 columns]>"
      ]
     },
     "execution_count": 17,
     "metadata": {},
     "output_type": "execute_result"
    }
   ],
   "source": [
    "#check \n",
    "df_orig.describe"
   ]
  },
  {
   "cell_type": "markdown",
   "id": "4a586080",
   "metadata": {},
   "source": [
    "Both Russia and the US have 'moderate' air quality"
   ]
  },
  {
   "cell_type": "code",
   "execution_count": 18,
   "id": "c74c2815",
   "metadata": {},
   "outputs": [
    {
     "data": {
      "text/plain": [
       "Country               302\n",
       "City                    0\n",
       "AQI Value               0\n",
       "AQI Category            0\n",
       "CO AQI Value            0\n",
       "CO AQI Category         0\n",
       "Ozone AQI Value         0\n",
       "Ozone AQI Category      0\n",
       "NO2 AQI Value           0\n",
       "NO2 AQI Category        0\n",
       "PM2.5 AQI Value         0\n",
       "PM2.5 AQI Category      0\n",
       "lat                     0\n",
       "lng                     0\n",
       "dtype: int64"
      ]
     },
     "execution_count": 18,
     "metadata": {},
     "output_type": "execute_result"
    }
   ],
   "source": [
    "#how to find and fix missing values#\n",
    "df_orig.isnull().sum()"
   ]
  },
  {
   "cell_type": "markdown",
   "id": "2de704d4",
   "metadata": {},
   "source": [
    "##it is time consuming but possible to add this data at a later point, so leave as is for now."
   ]
  },
  {
   "cell_type": "code",
   "execution_count": 19,
   "id": "4bac7d06",
   "metadata": {},
   "outputs": [
    {
     "data": {
      "text/plain": [
       "Good                              7936\n",
       "Moderate                          6882\n",
       "Unhealthy for Sensitive Groups     881\n",
       "Unhealthy                          828\n",
       "Very Unhealthy                     115\n",
       "Hazardous                           53\n",
       "Name: PM2.5 AQI Category, dtype: int64"
      ]
     },
     "execution_count": 19,
     "metadata": {},
     "output_type": "execute_result"
    }
   ],
   "source": [
    "#how many missing values are there in a given column: df['variable'].value_counts(dropna = False)\n",
    "df_orig['PM2.5 AQI Category'].value_counts(dropna=False)"
   ]
  },
  {
   "cell_type": "markdown",
   "id": "59838efd",
   "metadata": {},
   "source": [
    "#most countries or cities have good air quality, with very few categorised as unhealthy or hazardous."
   ]
  },
  {
   "cell_type": "code",
   "execution_count": 25,
   "id": "62e89470",
   "metadata": {},
   "outputs": [
    {
     "data": {
      "text/plain": [
       "(16393, 14)"
      ]
     },
     "execution_count": 25,
     "metadata": {},
     "output_type": "execute_result"
    }
   ],
   "source": [
    "#removing missing data\n",
    "df_orig=df_orig.dropna()\n",
    "df_orig.shape"
   ]
  },
  {
   "cell_type": "code",
   "execution_count": 24,
   "id": "99d09f00",
   "metadata": {},
   "outputs": [
    {
     "data": {
      "text/html": [
       "<div>\n",
       "<style scoped>\n",
       "    .dataframe tbody tr th:only-of-type {\n",
       "        vertical-align: middle;\n",
       "    }\n",
       "\n",
       "    .dataframe tbody tr th {\n",
       "        vertical-align: top;\n",
       "    }\n",
       "\n",
       "    .dataframe thead th {\n",
       "        text-align: right;\n",
       "    }\n",
       "</style>\n",
       "<table border=\"1\" class=\"dataframe\">\n",
       "  <thead>\n",
       "    <tr style=\"text-align: right;\">\n",
       "      <th></th>\n",
       "      <th>Country</th>\n",
       "      <th>City</th>\n",
       "      <th>AQI Value</th>\n",
       "      <th>AQI Category</th>\n",
       "      <th>CO AQI Value</th>\n",
       "      <th>CO AQI Category</th>\n",
       "      <th>Ozone AQI Value</th>\n",
       "      <th>Ozone AQI Category</th>\n",
       "      <th>NO2 AQI Value</th>\n",
       "      <th>NO2 AQI Category</th>\n",
       "      <th>PM2.5 AQI Value</th>\n",
       "      <th>PM2.5 AQI Category</th>\n",
       "      <th>lat</th>\n",
       "      <th>lng</th>\n",
       "    </tr>\n",
       "  </thead>\n",
       "  <tbody>\n",
       "  </tbody>\n",
       "</table>\n",
       "</div>"
      ],
      "text/plain": [
       "Empty DataFrame\n",
       "Columns: [Country, City, AQI Value, AQI Category, CO AQI Value, CO AQI Category, Ozone AQI Value, Ozone AQI Category, NO2 AQI Value, NO2 AQI Category, PM2.5 AQI Value, PM2.5 AQI Category, lat, lng]\n",
       "Index: []"
      ]
     },
     "execution_count": 24,
     "metadata": {},
     "output_type": "execute_result"
    }
   ],
   "source": [
    "#Searching for duplicates \n",
    "df_dups = df_orig[df_orig.duplicated()]\n",
    "df_dups"
   ]
  },
  {
   "cell_type": "markdown",
   "id": "a460f038",
   "metadata": {},
   "source": [
    "no duplicates found. "
   ]
  },
  {
   "cell_type": "code",
   "execution_count": 26,
   "id": "bc37e8b4",
   "metadata": {},
   "outputs": [],
   "source": [
    "#save the clean data\n",
    "df_orig.to_csv('C:/Users/chloe/Documents/05.2023 project/02 Data/Prepared data/WorldAQI_Clean.csv')"
   ]
  },
  {
   "cell_type": "markdown",
   "id": "8fc4012c",
   "metadata": {},
   "source": [
    "####Data consistency checks"
   ]
  },
  {
   "cell_type": "markdown",
   "id": "a7e46dfb",
   "metadata": {},
   "source": [
    "#data is clean and comprehensive. categorical comparisons of countries and cities within countries will be possile, as well as an identification of which types of pollutants are the most hazardous."
   ]
  },
  {
   "cell_type": "code",
   "execution_count": null,
   "id": "0c5da20a",
   "metadata": {},
   "outputs": [],
   "source": [
    "df_adj_clean.median()"
   ]
  },
  {
   "cell_type": "code",
   "execution_count": null,
   "id": "2c9c5914",
   "metadata": {},
   "outputs": [],
   "source": [
    "##IF NEEDED: df_ords_clean = df_ords['days_since_prior_order'].fillna(7.0, inplace=True)\n",
    "#REPEAT AS NEEDED"
   ]
  },
  {
   "cell_type": "code",
   "execution_count": null,
   "id": "02b101cd",
   "metadata": {},
   "outputs": [],
   "source": [
    "df_adj_clean.head(5))"
   ]
  },
  {
   "cell_type": "code",
   "execution_count": null,
   "id": "6df0f385",
   "metadata": {},
   "outputs": [],
   "source": [
    "##any commentary to be made on the data here"
   ]
  }
 ],
 "metadata": {
  "kernelspec": {
   "display_name": "Python 3 (ipykernel)",
   "language": "python",
   "name": "python3"
  },
  "language_info": {
   "codemirror_mode": {
    "name": "ipython",
    "version": 3
   },
   "file_extension": ".py",
   "mimetype": "text/x-python",
   "name": "python",
   "nbconvert_exporter": "python",
   "pygments_lexer": "ipython3",
   "version": "3.9.13"
  }
 },
 "nbformat": 4,
 "nbformat_minor": 5
}
