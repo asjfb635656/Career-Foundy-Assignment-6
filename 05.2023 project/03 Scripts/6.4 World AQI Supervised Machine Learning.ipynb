{
 "cells": [
  {
   "cell_type": "markdown",
   "id": "d7a25247",
   "metadata": {},
   "source": [
    "## 6.4 Machine Learning Part 1"
   ]
  },
  {
   "cell_type": "markdown",
   "id": "d33b0350",
   "metadata": {},
   "source": [
    "### This script contains the following:\n",
    "    #### 1. Importing libraries and data\n",
    "    #### 2. Data cleaning\n",
    "    #### 3. Data prep for regression analysis\n",
    "    #### 4. Regression analysis\n",
    "    #### Bonus: performance improvement after removing outliers"
   ]
  },
  {
   "cell_type": "markdown",
   "id": "0047cad7",
   "metadata": {},
   "source": [
    "### 1. Importing libraries and data"
   ]
  },
  {
   "cell_type": "code",
   "execution_count": 1,
   "id": "a5e345c2",
   "metadata": {},
   "outputs": [],
   "source": [
    "import pandas as pd\n",
    "import numpy as np\n",
    "import seaborn as sns\n",
    "import matplotlib\n",
    "import matplotlib.pyplot as plt\n",
    "import os\n",
    "import sklearn\n",
    "from sklearn.model_selection import train_test_split\n",
    "from sklearn.linear_model import LinearRegression\n",
    "from sklearn.metrics import mean_squared_error, r2_score"
   ]
  },
  {
   "cell_type": "code",
   "execution_count": 2,
   "id": "5eaa513d",
   "metadata": {},
   "outputs": [],
   "source": [
    "# This option ensures that the graphs you create are displayed within the notebook without the need to \\\"call\\\" them specifically.\\n\",\n",
    "%matplotlib inline"
   ]
  },
  {
   "cell_type": "code",
   "execution_count": 3,
   "id": "79e81a66",
   "metadata": {},
   "outputs": [],
   "source": [
    "#import data file\n",
    "df=pd.read_csv(r'C:\\\\Users\\\\chloe\\\\Documents\\\\05.2023 project\\\\02 Data\\\\Prepared data\\\\WorldAQI_Clean.csv', index_col = False)"
   ]
  },
  {
   "cell_type": "markdown",
   "id": "8a5f5150",
   "metadata": {},
   "source": [
    "### 2. Data cleaning"
   ]
  },
  {
   "cell_type": "code",
   "execution_count": 4,
   "id": "23117f3a",
   "metadata": {},
   "outputs": [
    {
     "data": {
      "text/plain": [
       "Index(['Unnamed: 0', 'Country', 'City', 'AQI Value', 'AQI Category',\n",
       "       'CO AQI Value', 'CO AQI Category', 'Ozone AQI Value',\n",
       "       'Ozone AQI Category', 'NO2 AQI Value', 'NO2 AQI Category',\n",
       "       'PM2.5 AQI Value', 'PM2.5 AQI Category', 'lat', 'lng'],\n",
       "      dtype='object')"
      ]
     },
     "execution_count": 4,
     "metadata": {},
     "output_type": "execute_result"
    }
   ],
   "source": [
    "df.columns"
   ]
  },
  {
   "cell_type": "code",
   "execution_count": 5,
   "id": "97fc46b9",
   "metadata": {},
   "outputs": [
    {
     "data": {
      "text/html": [
       "<div>\n",
       "<style scoped>\n",
       "    .dataframe tbody tr th:only-of-type {\n",
       "        vertical-align: middle;\n",
       "    }\n",
       "\n",
       "    .dataframe tbody tr th {\n",
       "        vertical-align: top;\n",
       "    }\n",
       "\n",
       "    .dataframe thead th {\n",
       "        text-align: right;\n",
       "    }\n",
       "</style>\n",
       "<table border=\"1\" class=\"dataframe\">\n",
       "  <thead>\n",
       "    <tr style=\"text-align: right;\">\n",
       "      <th></th>\n",
       "      <th>Unnamed: 0</th>\n",
       "      <th>Country</th>\n",
       "      <th>City</th>\n",
       "      <th>AQI Value</th>\n",
       "      <th>AQI Category</th>\n",
       "      <th>CO AQI Value</th>\n",
       "      <th>CO AQI Category</th>\n",
       "      <th>Ozone AQI Value</th>\n",
       "      <th>Ozone AQI Category</th>\n",
       "      <th>NO2 AQI Value</th>\n",
       "      <th>NO2 AQI Category</th>\n",
       "      <th>PM2.5 AQI Value</th>\n",
       "      <th>PM2.5 AQI Category</th>\n",
       "      <th>lat</th>\n",
       "      <th>lng</th>\n",
       "    </tr>\n",
       "  </thead>\n",
       "  <tbody>\n",
       "    <tr>\n",
       "      <th>0</th>\n",
       "      <td>0</td>\n",
       "      <td>Russian Federation</td>\n",
       "      <td>Praskoveya</td>\n",
       "      <td>51</td>\n",
       "      <td>Moderate</td>\n",
       "      <td>1</td>\n",
       "      <td>Good</td>\n",
       "      <td>36</td>\n",
       "      <td>Good</td>\n",
       "      <td>0</td>\n",
       "      <td>Good</td>\n",
       "      <td>51</td>\n",
       "      <td>Moderate</td>\n",
       "      <td>44.7444</td>\n",
       "      <td>44.2031</td>\n",
       "    </tr>\n",
       "    <tr>\n",
       "      <th>1</th>\n",
       "      <td>1</td>\n",
       "      <td>Brazil</td>\n",
       "      <td>Presidente Dutra</td>\n",
       "      <td>41</td>\n",
       "      <td>Good</td>\n",
       "      <td>1</td>\n",
       "      <td>Good</td>\n",
       "      <td>5</td>\n",
       "      <td>Good</td>\n",
       "      <td>1</td>\n",
       "      <td>Good</td>\n",
       "      <td>41</td>\n",
       "      <td>Good</td>\n",
       "      <td>-5.2900</td>\n",
       "      <td>-44.4900</td>\n",
       "    </tr>\n",
       "    <tr>\n",
       "      <th>2</th>\n",
       "      <td>2</td>\n",
       "      <td>Brazil</td>\n",
       "      <td>Presidente Dutra</td>\n",
       "      <td>41</td>\n",
       "      <td>Good</td>\n",
       "      <td>1</td>\n",
       "      <td>Good</td>\n",
       "      <td>5</td>\n",
       "      <td>Good</td>\n",
       "      <td>1</td>\n",
       "      <td>Good</td>\n",
       "      <td>41</td>\n",
       "      <td>Good</td>\n",
       "      <td>-11.2958</td>\n",
       "      <td>-41.9869</td>\n",
       "    </tr>\n",
       "    <tr>\n",
       "      <th>3</th>\n",
       "      <td>3</td>\n",
       "      <td>Italy</td>\n",
       "      <td>Priolo Gargallo</td>\n",
       "      <td>66</td>\n",
       "      <td>Moderate</td>\n",
       "      <td>1</td>\n",
       "      <td>Good</td>\n",
       "      <td>39</td>\n",
       "      <td>Good</td>\n",
       "      <td>2</td>\n",
       "      <td>Good</td>\n",
       "      <td>66</td>\n",
       "      <td>Moderate</td>\n",
       "      <td>37.1667</td>\n",
       "      <td>15.1833</td>\n",
       "    </tr>\n",
       "    <tr>\n",
       "      <th>4</th>\n",
       "      <td>4</td>\n",
       "      <td>Poland</td>\n",
       "      <td>Przasnysz</td>\n",
       "      <td>34</td>\n",
       "      <td>Good</td>\n",
       "      <td>1</td>\n",
       "      <td>Good</td>\n",
       "      <td>34</td>\n",
       "      <td>Good</td>\n",
       "      <td>0</td>\n",
       "      <td>Good</td>\n",
       "      <td>20</td>\n",
       "      <td>Good</td>\n",
       "      <td>53.0167</td>\n",
       "      <td>20.8833</td>\n",
       "    </tr>\n",
       "    <tr>\n",
       "      <th>5</th>\n",
       "      <td>5</td>\n",
       "      <td>United States of America</td>\n",
       "      <td>Punta Gorda</td>\n",
       "      <td>54</td>\n",
       "      <td>Moderate</td>\n",
       "      <td>1</td>\n",
       "      <td>Good</td>\n",
       "      <td>14</td>\n",
       "      <td>Good</td>\n",
       "      <td>11</td>\n",
       "      <td>Good</td>\n",
       "      <td>54</td>\n",
       "      <td>Moderate</td>\n",
       "      <td>16.1005</td>\n",
       "      <td>-88.8074</td>\n",
       "    </tr>\n",
       "    <tr>\n",
       "      <th>6</th>\n",
       "      <td>6</td>\n",
       "      <td>United States of America</td>\n",
       "      <td>Punta Gorda</td>\n",
       "      <td>54</td>\n",
       "      <td>Moderate</td>\n",
       "      <td>1</td>\n",
       "      <td>Good</td>\n",
       "      <td>14</td>\n",
       "      <td>Good</td>\n",
       "      <td>11</td>\n",
       "      <td>Good</td>\n",
       "      <td>54</td>\n",
       "      <td>Moderate</td>\n",
       "      <td>26.8941</td>\n",
       "      <td>-82.0513</td>\n",
       "    </tr>\n",
       "    <tr>\n",
       "      <th>7</th>\n",
       "      <td>7</td>\n",
       "      <td>Belgium</td>\n",
       "      <td>Puurs</td>\n",
       "      <td>64</td>\n",
       "      <td>Moderate</td>\n",
       "      <td>1</td>\n",
       "      <td>Good</td>\n",
       "      <td>29</td>\n",
       "      <td>Good</td>\n",
       "      <td>7</td>\n",
       "      <td>Good</td>\n",
       "      <td>64</td>\n",
       "      <td>Moderate</td>\n",
       "      <td>51.0761</td>\n",
       "      <td>4.2803</td>\n",
       "    </tr>\n",
       "    <tr>\n",
       "      <th>8</th>\n",
       "      <td>8</td>\n",
       "      <td>Russian Federation</td>\n",
       "      <td>Pyatigorsk</td>\n",
       "      <td>54</td>\n",
       "      <td>Moderate</td>\n",
       "      <td>1</td>\n",
       "      <td>Good</td>\n",
       "      <td>41</td>\n",
       "      <td>Good</td>\n",
       "      <td>1</td>\n",
       "      <td>Good</td>\n",
       "      <td>54</td>\n",
       "      <td>Moderate</td>\n",
       "      <td>44.0500</td>\n",
       "      <td>43.0667</td>\n",
       "    </tr>\n",
       "    <tr>\n",
       "      <th>9</th>\n",
       "      <td>9</td>\n",
       "      <td>China</td>\n",
       "      <td>Qinzhou</td>\n",
       "      <td>68</td>\n",
       "      <td>Moderate</td>\n",
       "      <td>2</td>\n",
       "      <td>Good</td>\n",
       "      <td>68</td>\n",
       "      <td>Moderate</td>\n",
       "      <td>1</td>\n",
       "      <td>Good</td>\n",
       "      <td>58</td>\n",
       "      <td>Moderate</td>\n",
       "      <td>21.9500</td>\n",
       "      <td>108.6167</td>\n",
       "    </tr>\n",
       "    <tr>\n",
       "      <th>10</th>\n",
       "      <td>10</td>\n",
       "      <td>Netherlands</td>\n",
       "      <td>Raalte</td>\n",
       "      <td>41</td>\n",
       "      <td>Good</td>\n",
       "      <td>1</td>\n",
       "      <td>Good</td>\n",
       "      <td>24</td>\n",
       "      <td>Good</td>\n",
       "      <td>6</td>\n",
       "      <td>Good</td>\n",
       "      <td>41</td>\n",
       "      <td>Good</td>\n",
       "      <td>52.3833</td>\n",
       "      <td>6.2667</td>\n",
       "    </tr>\n",
       "    <tr>\n",
       "      <th>11</th>\n",
       "      <td>11</td>\n",
       "      <td>France</td>\n",
       "      <td>Raismes</td>\n",
       "      <td>59</td>\n",
       "      <td>Moderate</td>\n",
       "      <td>1</td>\n",
       "      <td>Good</td>\n",
       "      <td>30</td>\n",
       "      <td>Good</td>\n",
       "      <td>4</td>\n",
       "      <td>Good</td>\n",
       "      <td>59</td>\n",
       "      <td>Moderate</td>\n",
       "      <td>50.3892</td>\n",
       "      <td>3.4858</td>\n",
       "    </tr>\n",
       "    <tr>\n",
       "      <th>12</th>\n",
       "      <td>12</td>\n",
       "      <td>Italy</td>\n",
       "      <td>Ramacca</td>\n",
       "      <td>55</td>\n",
       "      <td>Moderate</td>\n",
       "      <td>1</td>\n",
       "      <td>Good</td>\n",
       "      <td>47</td>\n",
       "      <td>Good</td>\n",
       "      <td>0</td>\n",
       "      <td>Good</td>\n",
       "      <td>55</td>\n",
       "      <td>Moderate</td>\n",
       "      <td>37.3833</td>\n",
       "      <td>14.7000</td>\n",
       "    </tr>\n",
       "    <tr>\n",
       "      <th>13</th>\n",
       "      <td>13</td>\n",
       "      <td>United States of America</td>\n",
       "      <td>Phoenix</td>\n",
       "      <td>72</td>\n",
       "      <td>Moderate</td>\n",
       "      <td>1</td>\n",
       "      <td>Good</td>\n",
       "      <td>4</td>\n",
       "      <td>Good</td>\n",
       "      <td>23</td>\n",
       "      <td>Good</td>\n",
       "      <td>72</td>\n",
       "      <td>Moderate</td>\n",
       "      <td>33.5722</td>\n",
       "      <td>-112.0892</td>\n",
       "    </tr>\n",
       "    <tr>\n",
       "      <th>14</th>\n",
       "      <td>14</td>\n",
       "      <td>Poland</td>\n",
       "      <td>Piaseczno</td>\n",
       "      <td>28</td>\n",
       "      <td>Good</td>\n",
       "      <td>1</td>\n",
       "      <td>Good</td>\n",
       "      <td>28</td>\n",
       "      <td>Good</td>\n",
       "      <td>2</td>\n",
       "      <td>Good</td>\n",
       "      <td>28</td>\n",
       "      <td>Good</td>\n",
       "      <td>52.0667</td>\n",
       "      <td>21.0167</td>\n",
       "    </tr>\n",
       "    <tr>\n",
       "      <th>15</th>\n",
       "      <td>15</td>\n",
       "      <td>Brazil</td>\n",
       "      <td>Pinheiral</td>\n",
       "      <td>154</td>\n",
       "      <td>Unhealthy</td>\n",
       "      <td>5</td>\n",
       "      <td>Good</td>\n",
       "      <td>0</td>\n",
       "      <td>Good</td>\n",
       "      <td>13</td>\n",
       "      <td>Good</td>\n",
       "      <td>154</td>\n",
       "      <td>Unhealthy</td>\n",
       "      <td>-22.5128</td>\n",
       "      <td>-44.0008</td>\n",
       "    </tr>\n",
       "    <tr>\n",
       "      <th>16</th>\n",
       "      <td>16</td>\n",
       "      <td>Colombia</td>\n",
       "      <td>Plato</td>\n",
       "      <td>67</td>\n",
       "      <td>Moderate</td>\n",
       "      <td>1</td>\n",
       "      <td>Good</td>\n",
       "      <td>16</td>\n",
       "      <td>Good</td>\n",
       "      <td>2</td>\n",
       "      <td>Good</td>\n",
       "      <td>67</td>\n",
       "      <td>Moderate</td>\n",
       "      <td>9.7919</td>\n",
       "      <td>-74.7872</td>\n",
       "    </tr>\n",
       "    <tr>\n",
       "      <th>17</th>\n",
       "      <td>17</td>\n",
       "      <td>Romania</td>\n",
       "      <td>Poiana Mare</td>\n",
       "      <td>62</td>\n",
       "      <td>Moderate</td>\n",
       "      <td>1</td>\n",
       "      <td>Good</td>\n",
       "      <td>37</td>\n",
       "      <td>Good</td>\n",
       "      <td>1</td>\n",
       "      <td>Good</td>\n",
       "      <td>62</td>\n",
       "      <td>Moderate</td>\n",
       "      <td>43.9333</td>\n",
       "      <td>23.0833</td>\n",
       "    </tr>\n",
       "    <tr>\n",
       "      <th>18</th>\n",
       "      <td>18</td>\n",
       "      <td>Russian Federation</td>\n",
       "      <td>Polevskoy</td>\n",
       "      <td>31</td>\n",
       "      <td>Good</td>\n",
       "      <td>1</td>\n",
       "      <td>Good</td>\n",
       "      <td>31</td>\n",
       "      <td>Good</td>\n",
       "      <td>0</td>\n",
       "      <td>Good</td>\n",
       "      <td>17</td>\n",
       "      <td>Good</td>\n",
       "      <td>56.4500</td>\n",
       "      <td>60.1833</td>\n",
       "    </tr>\n",
       "    <tr>\n",
       "      <th>19</th>\n",
       "      <td>19</td>\n",
       "      <td>France</td>\n",
       "      <td>Pontarlier</td>\n",
       "      <td>56</td>\n",
       "      <td>Moderate</td>\n",
       "      <td>1</td>\n",
       "      <td>Good</td>\n",
       "      <td>35</td>\n",
       "      <td>Good</td>\n",
       "      <td>0</td>\n",
       "      <td>Good</td>\n",
       "      <td>56</td>\n",
       "      <td>Moderate</td>\n",
       "      <td>46.9061</td>\n",
       "      <td>6.3547</td>\n",
       "    </tr>\n",
       "  </tbody>\n",
       "</table>\n",
       "</div>"
      ],
      "text/plain": [
       "    Unnamed: 0                   Country              City  AQI Value  \\\n",
       "0            0        Russian Federation        Praskoveya         51   \n",
       "1            1                    Brazil  Presidente Dutra         41   \n",
       "2            2                    Brazil  Presidente Dutra         41   \n",
       "3            3                     Italy   Priolo Gargallo         66   \n",
       "4            4                    Poland         Przasnysz         34   \n",
       "5            5  United States of America       Punta Gorda         54   \n",
       "6            6  United States of America       Punta Gorda         54   \n",
       "7            7                   Belgium             Puurs         64   \n",
       "8            8        Russian Federation        Pyatigorsk         54   \n",
       "9            9                     China           Qinzhou         68   \n",
       "10          10               Netherlands            Raalte         41   \n",
       "11          11                    France           Raismes         59   \n",
       "12          12                     Italy           Ramacca         55   \n",
       "13          13  United States of America           Phoenix         72   \n",
       "14          14                    Poland         Piaseczno         28   \n",
       "15          15                    Brazil         Pinheiral        154   \n",
       "16          16                  Colombia             Plato         67   \n",
       "17          17                   Romania       Poiana Mare         62   \n",
       "18          18        Russian Federation         Polevskoy         31   \n",
       "19          19                    France        Pontarlier         56   \n",
       "\n",
       "   AQI Category  CO AQI Value CO AQI Category  Ozone AQI Value  \\\n",
       "0      Moderate             1            Good               36   \n",
       "1          Good             1            Good                5   \n",
       "2          Good             1            Good                5   \n",
       "3      Moderate             1            Good               39   \n",
       "4          Good             1            Good               34   \n",
       "5      Moderate             1            Good               14   \n",
       "6      Moderate             1            Good               14   \n",
       "7      Moderate             1            Good               29   \n",
       "8      Moderate             1            Good               41   \n",
       "9      Moderate             2            Good               68   \n",
       "10         Good             1            Good               24   \n",
       "11     Moderate             1            Good               30   \n",
       "12     Moderate             1            Good               47   \n",
       "13     Moderate             1            Good                4   \n",
       "14         Good             1            Good               28   \n",
       "15    Unhealthy             5            Good                0   \n",
       "16     Moderate             1            Good               16   \n",
       "17     Moderate             1            Good               37   \n",
       "18         Good             1            Good               31   \n",
       "19     Moderate             1            Good               35   \n",
       "\n",
       "   Ozone AQI Category  NO2 AQI Value NO2 AQI Category  PM2.5 AQI Value  \\\n",
       "0                Good              0             Good               51   \n",
       "1                Good              1             Good               41   \n",
       "2                Good              1             Good               41   \n",
       "3                Good              2             Good               66   \n",
       "4                Good              0             Good               20   \n",
       "5                Good             11             Good               54   \n",
       "6                Good             11             Good               54   \n",
       "7                Good              7             Good               64   \n",
       "8                Good              1             Good               54   \n",
       "9            Moderate              1             Good               58   \n",
       "10               Good              6             Good               41   \n",
       "11               Good              4             Good               59   \n",
       "12               Good              0             Good               55   \n",
       "13               Good             23             Good               72   \n",
       "14               Good              2             Good               28   \n",
       "15               Good             13             Good              154   \n",
       "16               Good              2             Good               67   \n",
       "17               Good              1             Good               62   \n",
       "18               Good              0             Good               17   \n",
       "19               Good              0             Good               56   \n",
       "\n",
       "   PM2.5 AQI Category      lat       lng  \n",
       "0            Moderate  44.7444   44.2031  \n",
       "1                Good  -5.2900  -44.4900  \n",
       "2                Good -11.2958  -41.9869  \n",
       "3            Moderate  37.1667   15.1833  \n",
       "4                Good  53.0167   20.8833  \n",
       "5            Moderate  16.1005  -88.8074  \n",
       "6            Moderate  26.8941  -82.0513  \n",
       "7            Moderate  51.0761    4.2803  \n",
       "8            Moderate  44.0500   43.0667  \n",
       "9            Moderate  21.9500  108.6167  \n",
       "10               Good  52.3833    6.2667  \n",
       "11           Moderate  50.3892    3.4858  \n",
       "12           Moderate  37.3833   14.7000  \n",
       "13           Moderate  33.5722 -112.0892  \n",
       "14               Good  52.0667   21.0167  \n",
       "15          Unhealthy -22.5128  -44.0008  \n",
       "16           Moderate   9.7919  -74.7872  \n",
       "17           Moderate  43.9333   23.0833  \n",
       "18               Good  56.4500   60.1833  \n",
       "19           Moderate  46.9061    6.3547  "
      ]
     },
     "execution_count": 5,
     "metadata": {},
     "output_type": "execute_result"
    }
   ],
   "source": [
    "df.head(20)"
   ]
  },
  {
   "cell_type": "code",
   "execution_count": 6,
   "id": "d485099b",
   "metadata": {},
   "outputs": [
    {
     "data": {
      "text/plain": [
       "(16393, 15)"
      ]
     },
     "execution_count": 6,
     "metadata": {},
     "output_type": "execute_result"
    }
   ],
   "source": [
    "df.shape"
   ]
  },
  {
   "cell_type": "code",
   "execution_count": 7,
   "id": "0f9c2dc7",
   "metadata": {},
   "outputs": [],
   "source": [
    "# Rename the columns in the same way as in Exercise 6.2.\n",
    "df.rename(columns = {'lat' : 'Latitude', 'lng': 'Longitude'}, inplace = True)"
   ]
  },
  {
   "cell_type": "markdown",
   "id": "284225d2",
   "metadata": {},
   "source": [
    "##### Missing values"
   ]
  },
  {
   "cell_type": "code",
   "execution_count": 8,
   "id": "3657067d",
   "metadata": {},
   "outputs": [
    {
     "data": {
      "text/plain": [
       "Unnamed: 0            0\n",
       "Country               0\n",
       "City                  0\n",
       "AQI Value             0\n",
       "AQI Category          0\n",
       "CO AQI Value          0\n",
       "CO AQI Category       0\n",
       "Ozone AQI Value       0\n",
       "Ozone AQI Category    0\n",
       "NO2 AQI Value         0\n",
       "NO2 AQI Category      0\n",
       "PM2.5 AQI Value       0\n",
       "PM2.5 AQI Category    0\n",
       "Latitude              0\n",
       "Longitude             0\n",
       "dtype: int64"
      ]
     },
     "execution_count": 8,
     "metadata": {},
     "output_type": "execute_result"
    }
   ],
   "source": [
    "# Check for missing values\n",
    "df.isnull().sum()\n",
    "# No missing values to handle"
   ]
  },
  {
   "cell_type": "code",
   "execution_count": 11,
   "id": "41b02dea",
   "metadata": {},
   "outputs": [
    {
     "data": {
      "text/plain": [
       "0        False\n",
       "1        False\n",
       "2        False\n",
       "3        False\n",
       "4        False\n",
       "         ...  \n",
       "16388    False\n",
       "16389    False\n",
       "16390    False\n",
       "16391    False\n",
       "16392    False\n",
       "Length: 16393, dtype: bool"
      ]
     },
     "execution_count": 11,
     "metadata": {},
     "output_type": "execute_result"
    }
   ],
   "source": [
    "#Check for duplicates\n",
    "dups=df.duplicated\n",
    "dups()\n",
    "#No duplicates"
   ]
  },
  {
   "cell_type": "markdown",
   "id": "025400e3",
   "metadata": {},
   "source": [
    "##### Extreme values checks"
   ]
  },
  {
   "cell_type": "code",
   "execution_count": 12,
   "id": "c0db7379",
   "metadata": {},
   "outputs": [
    {
     "name": "stderr",
     "output_type": "stream",
     "text": [
      "C:\\Users\\Chloe\\anaconda3\\lib\\site-packages\\seaborn\\distributions.py:2619: FutureWarning: `distplot` is a deprecated function and will be removed in a future version. Please adapt your code to use either `displot` (a figure-level function with similar flexibility) or `histplot` (an axes-level function for histograms).\n",
      "  warnings.warn(msg, FutureWarning)\n"
     ]
    },
    {
     "data": {
      "text/plain": [
       "<AxesSubplot:xlabel='AQI Value', ylabel='Density'>"
      ]
     },
     "execution_count": 12,
     "metadata": {},
     "output_type": "execute_result"
    },
    {
     "data": {
      "image/png": "[encoded data removed]",
      "text/plain": [
       "<Figure size 640x480 with 1 Axes>"
      ]
     },
     "metadata": {},
     "output_type": "display_data"
    }
   ],
   "source": [
    "#Checking outliers for AQI Value\n",
    "sns.distplot(df['AQI Value'], bins=25) \n",
    "# There are outliers in the high values but too many to drop, i.e they're not outliers. See 6.3"
   ]
  },
  {
   "cell_type": "code",
   "execution_count": 15,
   "id": "fd5e2156",
   "metadata": {},
   "outputs": [
    {
     "data": {
      "text/plain": [
       "52.0"
      ]
     },
     "execution_count": 15,
     "metadata": {},
     "output_type": "execute_result"
    }
   ],
   "source": [
    "df['AQI Value'].median() # Check the median"
   ]
  },
  {
   "cell_type": "code",
   "execution_count": 16,
   "id": "2dc2298c",
   "metadata": {},
   "outputs": [
    {
     "data": {
      "text/plain": [
       "7"
      ]
     },
     "execution_count": 16,
     "metadata": {},
     "output_type": "execute_result"
    }
   ],
   "source": [
    "df['AQI Value'].min() # Check the min"
   ]
  },
  {
   "cell_type": "code",
   "execution_count": 17,
   "id": "6a8ccb82",
   "metadata": {},
   "outputs": [
    {
     "data": {
      "text/plain": [
       "500"
      ]
     },
     "execution_count": 17,
     "metadata": {},
     "output_type": "execute_result"
    }
   ],
   "source": [
    "df['AQI Value'].max() # Check the max"
   ]
  },
  {
   "cell_type": "code",
   "execution_count": 27,
   "id": "1293eb41",
   "metadata": {},
   "outputs": [
    {
     "name": "stderr",
     "output_type": "stream",
     "text": [
      "C:\\Users\\Chloe\\anaconda3\\lib\\site-packages\\seaborn\\distributions.py:2619: FutureWarning: `distplot` is a deprecated function and will be removed in a future version. Please adapt your code to use either `displot` (a figure-level function with similar flexibility) or `histplot` (an axes-level function for histograms).\n",
      "  warnings.warn(msg, FutureWarning)\n"
     ]
    },
    {
     "data": {
      "text/plain": [
       "<AxesSubplot:xlabel='CO AQI Value', ylabel='Density'>"
      ]
     },
     "execution_count": 27,
     "metadata": {},
     "output_type": "execute_result"
    },
    {
     "data": {
      "image/png": "[encoded data removed]",
      "text/plain": [
       "<Figure size 640x480 with 1 Axes>"
      ]
     },
     "metadata": {},
     "output_type": "display_data"
    }
   ],
   "source": [
    "sns.distplot(df['CO AQI Value'], bins=25) # Shows extreme values for CO AQI Value"
   ]
  },
  {
   "cell_type": "code",
   "execution_count": 22,
   "id": "6f0dd170",
   "metadata": {},
   "outputs": [
    {
     "data": {
      "text/plain": [
       "1.0"
      ]
     },
     "execution_count": 22,
     "metadata": {},
     "output_type": "execute_result"
    }
   ],
   "source": [
    "df['CO AQI Value'].median() # Check the median"
   ]
  },
  {
   "cell_type": "code",
   "execution_count": 23,
   "id": "7f00acfc",
   "metadata": {},
   "outputs": [
    {
     "data": {
      "text/plain": [
       "0"
      ]
     },
     "execution_count": 23,
     "metadata": {},
     "output_type": "execute_result"
    }
   ],
   "source": [
    "df['CO AQI Value'].min() # Check the min"
   ]
  },
  {
   "cell_type": "code",
   "execution_count": 24,
   "id": "11032e88",
   "metadata": {},
   "outputs": [
    {
     "data": {
      "text/plain": [
       "133"
      ]
     },
     "execution_count": 24,
     "metadata": {},
     "output_type": "execute_result"
    }
   ],
   "source": [
    "df['CO AQI Value'].max() # Check the max"
   ]
  },
  {
   "cell_type": "code",
   "execution_count": 25,
   "id": "b51e7e9a",
   "metadata": {},
   "outputs": [
    {
     "name": "stderr",
     "output_type": "stream",
     "text": [
      "C:\\Users\\Chloe\\anaconda3\\lib\\site-packages\\seaborn\\distributions.py:2619: FutureWarning: `distplot` is a deprecated function and will be removed in a future version. Please adapt your code to use either `displot` (a figure-level function with similar flexibility) or `histplot` (an axes-level function for histograms).\n",
      "  warnings.warn(msg, FutureWarning)\n"
     ]
    },
    {
     "data": {
      "text/plain": [
       "<AxesSubplot:xlabel='NO2 AQI Value', ylabel='Density'>"
      ]
     },
     "execution_count": 25,
     "metadata": {},
     "output_type": "execute_result"
    },
    {
     "data": {
      "image/png": "[encoded data removed]",
      "text/plain": [
       "<Figure size 640x480 with 1 Axes>"
      ]
     },
     "metadata": {},
     "output_type": "display_data"
    }
   ],
   "source": [
    "#Checking outliers for NO2 AQI Value\n",
    "sns.distplot(df['NO2 AQI Value'], bins=25) "
   ]
  },
  {
   "cell_type": "code",
   "execution_count": 28,
   "id": "893b752f",
   "metadata": {},
   "outputs": [
    {
     "data": {
      "text/plain": [
       "2.0"
      ]
     },
     "execution_count": 28,
     "metadata": {},
     "output_type": "execute_result"
    }
   ],
   "source": [
    "df['NO2 AQI Value'].median() # Check the median"
   ]
  },
  {
   "cell_type": "code",
   "execution_count": 29,
   "id": "a2d102c1",
   "metadata": {},
   "outputs": [
    {
     "data": {
      "text/plain": [
       "0"
      ]
     },
     "execution_count": 29,
     "metadata": {},
     "output_type": "execute_result"
    }
   ],
   "source": [
    "df['NO2 AQI Value'].min() # Check the min"
   ]
  },
  {
   "cell_type": "code",
   "execution_count": 30,
   "id": "1d1169e5",
   "metadata": {},
   "outputs": [
    {
     "data": {
      "text/plain": [
       "91"
      ]
     },
     "execution_count": 30,
     "metadata": {},
     "output_type": "execute_result"
    }
   ],
   "source": [
    "df['NO2 AQI Value'].max() # Check the max"
   ]
  },
  {
   "cell_type": "code",
   "execution_count": 31,
   "id": "8efd74cd",
   "metadata": {},
   "outputs": [
    {
     "name": "stderr",
     "output_type": "stream",
     "text": [
      "C:\\Users\\Chloe\\anaconda3\\lib\\site-packages\\seaborn\\distributions.py:2619: FutureWarning: `distplot` is a deprecated function and will be removed in a future version. Please adapt your code to use either `displot` (a figure-level function with similar flexibility) or `histplot` (an axes-level function for histograms).\n",
      "  warnings.warn(msg, FutureWarning)\n"
     ]
    },
    {
     "data": {
      "text/plain": [
       "<AxesSubplot:xlabel='PM2.5 AQI Value', ylabel='Density'>"
      ]
     },
     "execution_count": 31,
     "metadata": {},
     "output_type": "execute_result"
    },
    {
     "data": {
      "image/png": "[encoded data removed]",
      "text/plain": [
       "<Figure size 640x480 with 1 Axes>"
      ]
     },
     "metadata": {},
     "output_type": "display_data"
    }
   ],
   "source": [
    "#Checking outliers for PM2.5 AQI Value Value\n",
    "sns.distplot(df['PM2.5 AQI Value'], bins=25) "
   ]
  },
  {
   "cell_type": "code",
   "execution_count": 33,
   "id": "4d43f906",
   "metadata": {},
   "outputs": [
    {
     "data": {
      "text/plain": [
       "52.0"
      ]
     },
     "execution_count": 33,
     "metadata": {},
     "output_type": "execute_result"
    }
   ],
   "source": [
    "df['PM2.5 AQI Value'].median() # Check the median"
   ]
  },
  {
   "cell_type": "code",
   "execution_count": 32,
   "id": "aeaf3992",
   "metadata": {},
   "outputs": [
    {
     "data": {
      "text/plain": [
       "0"
      ]
     },
     "execution_count": 32,
     "metadata": {},
     "output_type": "execute_result"
    }
   ],
   "source": [
    "df['PM2.5 AQI Value'].min() # Check the min"
   ]
  },
  {
   "cell_type": "code",
   "execution_count": 34,
   "id": "e925b5b9",
   "metadata": {
    "scrolled": true
   },
   "outputs": [
    {
     "data": {
      "text/plain": [
       "500"
      ]
     },
     "execution_count": 34,
     "metadata": {},
     "output_type": "execute_result"
    }
   ],
   "source": [
    "df['PM2.5 AQI Value'].max() # Check the max"
   ]
  },
  {
   "cell_type": "markdown",
   "id": "a7cf84a4",
   "metadata": {},
   "source": [
    "### 3. Data prep for regression analysis"
   ]
  },
  {
   "cell_type": "code",
   "execution_count": 35,
   "id": "7969bad9",
   "metadata": {},
   "outputs": [
    {
     "data": {
      "image/png": "[encoded data removed]",
      "text/plain": [
       "<Figure size 640x480 with 1 Axes>"
      ]
     },
     "metadata": {},
     "output_type": "display_data"
    }
   ],
   "source": [
    "# Create a scatterplot using matplotlib for another look at how the chosen variables plot against each other.\n",
    "df.plot(x = 'AQI Value', y='PM2.5 AQI Value',style='o') # The style option creates a scatterplot; without it, we only have lines.\n",
    "plt.title('Relation betwween PM2.5 levels and overall air quality')\n",
    "plt.xlabel('AQI Value')\n",
    "plt.ylabel('PM2.5 AQI Value')\n",
    "plt.show()"
   ]
  },
  {
   "cell_type": "markdown",
   "id": "0a2e7d99",
   "metadata": {},
   "source": [
    "#Hypothesis 1: Higher levels of PM2.5 have a very strong negative impact on the overall air quality level (i.e stromger than all other particulates)"
   ]
  },
  {
   "cell_type": "code",
   "execution_count": 36,
   "id": "ce60a3ce",
   "metadata": {},
   "outputs": [],
   "source": [
    "# Reshape the variables into NumPy arrays and put them into separate objects.\n",
    "X = df['AQI Value'].values.reshape(-1,1)\n",
    "y = df['PM2.5 AQI Value'].values.reshape(-1,1)"
   ]
  },
  {
   "cell_type": "code",
   "execution_count": 37,
   "id": "303c8503",
   "metadata": {},
   "outputs": [
    {
     "data": {
      "text/plain": [
       "array([[51],\n",
       "       [41],\n",
       "       [41],\n",
       "       ...,\n",
       "       [71],\n",
       "       [50],\n",
       "       [71]], dtype=int64)"
      ]
     },
     "execution_count": 37,
     "metadata": {},
     "output_type": "execute_result"
    }
   ],
   "source": [
    "X"
   ]
  },
  {
   "cell_type": "code",
   "execution_count": 38,
   "id": "9a54f733",
   "metadata": {},
   "outputs": [
    {
     "data": {
      "text/plain": [
       "array([[51],\n",
       "       [41],\n",
       "       [41],\n",
       "       ...,\n",
       "       [71],\n",
       "       [50],\n",
       "       [71]], dtype=int64)"
      ]
     },
     "execution_count": 38,
     "metadata": {},
     "output_type": "execute_result"
    }
   ],
   "source": [
    "y"
   ]
  },
  {
   "cell_type": "code",
   "execution_count": 39,
   "id": "0e431ffe",
   "metadata": {},
   "outputs": [],
   "source": [
    "# Split data into a training set and a test set.\n",
    "X_train, X_test, y_train, y_test = train_test_split(X, y, test_size=0.3, random_state=0)\n"
   ]
  },
  {
   "cell_type": "markdown",
   "id": "5441bdc3",
   "metadata": {},
   "source": [
    "### 4. Regression analysis"
   ]
  },
  {
   "cell_type": "code",
   "execution_count": 40,
   "id": "aca50c36",
   "metadata": {},
   "outputs": [],
   "source": [
    "# Create a regression object.\n",
    "regression = LinearRegression()  # This is the regression object, which will be fit onto the training set."
   ]
  },
  {
   "cell_type": "code",
   "execution_count": 41,
   "id": "dc30f8d1",
   "metadata": {},
   "outputs": [
    {
     "data": {
      "text/plain": [
       "LinearRegression()"
      ]
     },
     "execution_count": 41,
     "metadata": {},
     "output_type": "execute_result"
    }
   ],
   "source": [
    "# Fit the regression object onto the training set.\n",
    "regression.fit(X_train, y_train)"
   ]
  },
  {
   "cell_type": "code",
   "execution_count": 42,
   "id": "dd7f10e8",
   "metadata": {},
   "outputs": [],
   "source": [
    "# Predict the values of y using X.\n",
    "y_predicted = regression.predict(X_test)"
   ]
  },
  {
   "cell_type": "code",
   "execution_count": 44,
   "id": "b5154410",
   "metadata": {},
   "outputs": [
    {
     "data": {
      "image/png": "[encoded data removed]",
      "text/plain": [
       "<Figure size 640x480 with 1 Axes>"
      ]
     },
     "metadata": {},
     "output_type": "display_data"
    }
   ],
   "source": [
    "# Create a plot that shows the regression line from the model on the test set.\\n\",\n",
    "plot_test = plt\n",
    "plot_test.scatter(X_test, y_test, color='gray', s = 15)\n",
    "plot_test.plot(X_test, y_predicted, color='red', linewidth =3)\n",
    "plot_test.title('Relation betwween PM2.5 levels and overall air quality (Test set)')\n",
    "plot_test.xlabel('AQI Value')\n",
    "plot_test.ylabel('PM2.5 AQI Value')\n",
    "plot_test.show()"
   ]
  },
  {
   "cell_type": "markdown",
   "id": "dab8c702",
   "metadata": {},
   "source": [
    "#Interpretation of how well the line appears to fit the data: There is a very strong correlation between the regression line and the data, suggesting a very good fit. But there are some points to be aware of: Some cities with a lower AQI Value also have much lower PM2.5 values (and vice versa). Also, with extremely bd air quality, the regression model also loses its accuracy (presumably because measurement scores did not go beyond 500)."
   ]
  },
  {
   "cell_type": "code",
   "execution_count": 45,
   "id": "d875c54c",
   "metadata": {},
   "outputs": [],
   "source": [
    "# Create objects that contain the model summary statistics.\n",
    "rmse = mean_squared_error(y_test, y_predicted) # This is the mean squared error\n",
    "r2 = r2_score(y_test, y_predicted) # This is the R2 score."
   ]
  },
  {
   "cell_type": "code",
   "execution_count": 46,
   "id": "3e9e7559",
   "metadata": {},
   "outputs": [
    {
     "name": "stdout",
     "output_type": "stream",
     "text": [
      "Slope: [[0.97965097]]\n",
      "Mean squared error:  73.61921330471968\n",
      "R2 score:  0.9600620874514186\n"
     ]
    }
   ],
   "source": [
    "# Print the model summary statistics. This is where you evaluate the performance of the model.\n",
    "print('Slope:' ,regression.coef_)\n",
    "print('Mean squared error: ', rmse)\n",
    "print('R2 score: ', r2)"
   ]
  },
  {
   "cell_type": "code",
   "execution_count": 47,
   "id": "6447f725",
   "metadata": {},
   "outputs": [
    {
     "data": {
      "text/plain": [
       "array([[71.62388504],\n",
       "       [52.03086573],\n",
       "       [85.33899856],\n",
       "       ...,\n",
       "       [71.62388504],\n",
       "       [43.21400704],\n",
       "       [52.03086573]])"
      ]
     },
     "execution_count": 47,
     "metadata": {},
     "output_type": "execute_result"
    }
   ],
   "source": [
    "y_predicted"
   ]
  },
  {
   "cell_type": "code",
   "execution_count": 48,
   "id": "f079be26",
   "metadata": {},
   "outputs": [
    {
     "data": {
      "text/html": [
       "<div>\n",
       "<style scoped>\n",
       "    .dataframe tbody tr th:only-of-type {\n",
       "        vertical-align: middle;\n",
       "    }\n",
       "\n",
       "    .dataframe tbody tr th {\n",
       "        vertical-align: top;\n",
       "    }\n",
       "\n",
       "    .dataframe thead th {\n",
       "        text-align: right;\n",
       "    }\n",
       "</style>\n",
       "<table border=\"1\" class=\"dataframe\">\n",
       "  <thead>\n",
       "    <tr style=\"text-align: right;\">\n",
       "      <th></th>\n",
       "      <th>Actual</th>\n",
       "      <th>Predicted</th>\n",
       "    </tr>\n",
       "  </thead>\n",
       "  <tbody>\n",
       "    <tr>\n",
       "      <th>0</th>\n",
       "      <td>75</td>\n",
       "      <td>71.623885</td>\n",
       "    </tr>\n",
       "    <tr>\n",
       "      <th>1</th>\n",
       "      <td>55</td>\n",
       "      <td>52.030866</td>\n",
       "    </tr>\n",
       "    <tr>\n",
       "      <th>2</th>\n",
       "      <td>89</td>\n",
       "      <td>85.338999</td>\n",
       "    </tr>\n",
       "    <tr>\n",
       "      <th>3</th>\n",
       "      <td>28</td>\n",
       "      <td>31.458195</td>\n",
       "    </tr>\n",
       "    <tr>\n",
       "      <th>4</th>\n",
       "      <td>79</td>\n",
       "      <td>75.542489</td>\n",
       "    </tr>\n",
       "    <tr>\n",
       "      <th>5</th>\n",
       "      <td>68</td>\n",
       "      <td>64.766328</td>\n",
       "    </tr>\n",
       "    <tr>\n",
       "      <th>6</th>\n",
       "      <td>31</td>\n",
       "      <td>28.519243</td>\n",
       "    </tr>\n",
       "    <tr>\n",
       "      <th>7</th>\n",
       "      <td>141</td>\n",
       "      <td>168.609331</td>\n",
       "    </tr>\n",
       "    <tr>\n",
       "      <th>8</th>\n",
       "      <td>74</td>\n",
       "      <td>70.644234</td>\n",
       "    </tr>\n",
       "    <tr>\n",
       "      <th>9</th>\n",
       "      <td>39</td>\n",
       "      <td>36.356450</td>\n",
       "    </tr>\n",
       "    <tr>\n",
       "      <th>10</th>\n",
       "      <td>50</td>\n",
       "      <td>47.132611</td>\n",
       "    </tr>\n",
       "    <tr>\n",
       "      <th>11</th>\n",
       "      <td>57</td>\n",
       "      <td>53.990168</td>\n",
       "    </tr>\n",
       "    <tr>\n",
       "      <th>12</th>\n",
       "      <td>22</td>\n",
       "      <td>19.702384</td>\n",
       "    </tr>\n",
       "    <tr>\n",
       "      <th>13</th>\n",
       "      <td>14</td>\n",
       "      <td>14.804129</td>\n",
       "    </tr>\n",
       "    <tr>\n",
       "      <th>14</th>\n",
       "      <td>63</td>\n",
       "      <td>59.868073</td>\n",
       "    </tr>\n",
       "    <tr>\n",
       "      <th>15</th>\n",
       "      <td>85</td>\n",
       "      <td>81.420395</td>\n",
       "    </tr>\n",
       "    <tr>\n",
       "      <th>16</th>\n",
       "      <td>164</td>\n",
       "      <td>158.812821</td>\n",
       "    </tr>\n",
       "    <tr>\n",
       "      <th>17</th>\n",
       "      <td>199</td>\n",
       "      <td>193.100605</td>\n",
       "    </tr>\n",
       "    <tr>\n",
       "      <th>18</th>\n",
       "      <td>50</td>\n",
       "      <td>47.132611</td>\n",
       "    </tr>\n",
       "    <tr>\n",
       "      <th>19</th>\n",
       "      <td>23</td>\n",
       "      <td>27.539592</td>\n",
       "    </tr>\n",
       "    <tr>\n",
       "      <th>20</th>\n",
       "      <td>62</td>\n",
       "      <td>58.888422</td>\n",
       "    </tr>\n",
       "    <tr>\n",
       "      <th>21</th>\n",
       "      <td>109</td>\n",
       "      <td>104.932018</td>\n",
       "    </tr>\n",
       "    <tr>\n",
       "      <th>22</th>\n",
       "      <td>18</td>\n",
       "      <td>23.620988</td>\n",
       "    </tr>\n",
       "    <tr>\n",
       "      <th>23</th>\n",
       "      <td>67</td>\n",
       "      <td>63.786677</td>\n",
       "    </tr>\n",
       "    <tr>\n",
       "      <th>24</th>\n",
       "      <td>28</td>\n",
       "      <td>25.580290</td>\n",
       "    </tr>\n",
       "    <tr>\n",
       "      <th>25</th>\n",
       "      <td>17</td>\n",
       "      <td>33.417497</td>\n",
       "    </tr>\n",
       "    <tr>\n",
       "      <th>26</th>\n",
       "      <td>109</td>\n",
       "      <td>104.932018</td>\n",
       "    </tr>\n",
       "    <tr>\n",
       "      <th>27</th>\n",
       "      <td>54</td>\n",
       "      <td>51.051215</td>\n",
       "    </tr>\n",
       "    <tr>\n",
       "      <th>28</th>\n",
       "      <td>42</td>\n",
       "      <td>39.295403</td>\n",
       "    </tr>\n",
       "    <tr>\n",
       "      <th>29</th>\n",
       "      <td>37</td>\n",
       "      <td>34.397148</td>\n",
       "    </tr>\n",
       "  </tbody>\n",
       "</table>\n",
       "</div>"
      ],
      "text/plain": [
       "    Actual   Predicted\n",
       "0       75   71.623885\n",
       "1       55   52.030866\n",
       "2       89   85.338999\n",
       "3       28   31.458195\n",
       "4       79   75.542489\n",
       "5       68   64.766328\n",
       "6       31   28.519243\n",
       "7      141  168.609331\n",
       "8       74   70.644234\n",
       "9       39   36.356450\n",
       "10      50   47.132611\n",
       "11      57   53.990168\n",
       "12      22   19.702384\n",
       "13      14   14.804129\n",
       "14      63   59.868073\n",
       "15      85   81.420395\n",
       "16     164  158.812821\n",
       "17     199  193.100605\n",
       "18      50   47.132611\n",
       "19      23   27.539592\n",
       "20      62   58.888422\n",
       "21     109  104.932018\n",
       "22      18   23.620988\n",
       "23      67   63.786677\n",
       "24      28   25.580290\n",
       "25      17   33.417497\n",
       "26     109  104.932018\n",
       "27      54   51.051215\n",
       "28      42   39.295403\n",
       "29      37   34.397148"
      ]
     },
     "execution_count": 48,
     "metadata": {},
     "output_type": "execute_result"
    }
   ],
   "source": [
    "# Create a dataframe comparing the actual and predicted values of y.\n",
    "data = pd.DataFrame({'Actual': y_test.flatten(), 'Predicted': y_predicted.flatten()})\n",
    "data.head(30)"
   ]
  },
  {
   "cell_type": "markdown",
   "id": "fba7fa70",
   "metadata": {},
   "source": [
    "Include your thoughts on how well the model performed on the test set in a markdown cell.\n",
    "Include any reflections you have on the impact of possible data bias."
   ]
  },
  {
   "cell_type": "markdown",
   "id": "4a040e69",
   "metadata": {},
   "source": [
    "##### Compare how the regression fits the training set"
   ]
  },
  {
   "cell_type": "code",
   "execution_count": 49,
   "id": "58ec4fe7",
   "metadata": {},
   "outputs": [],
   "source": [
    "# Predict.\n",
    "y_predicted_train = regression.predict(X_train) # This is predicting X_train!"
   ]
  },
  {
   "cell_type": "code",
   "execution_count": 50,
   "id": "bf435e0f",
   "metadata": {},
   "outputs": [],
   "source": [
    "rmse = mean_squared_error(y_train, y_predicted_train)\n",
    "r2 = r2_score(y_train, y_predicted_train)"
   ]
  },
  {
   "cell_type": "code",
   "execution_count": 51,
   "id": "fc15297e",
   "metadata": {},
   "outputs": [
    {
     "name": "stdout",
     "output_type": "stream",
     "text": [
      "Slope: [[0.97965097]]\n",
      "Mean squared error:  71.72951046735722\n",
      "R2 score:  0.9622078877836664\n"
     ]
    }
   ],
   "source": [
    "print('Slope:' ,regression.coef_)\n",
    "print('Mean squared error: ', rmse)\n",
    "print('R2 score: ', r2)"
   ]
  },
  {
   "cell_type": "code",
   "execution_count": 53,
   "id": "1180d3f0",
   "metadata": {},
   "outputs": [
    {
     "data": {
      "image/png": "[encoded data removed]",
      "text/plain": [
       "<Figure size 640x480 with 1 Axes>"
      ]
     },
     "metadata": {},
     "output_type": "display_data"
    }
   ],
   "source": [
    "# Visualizing the training set results.\n",
    "plot_test = plt\n",
    "plot_test.scatter(X_train, y_train, color='green', s = 15)\n",
    "plot_test.plot(X_train, y_predicted_train, color='red', linewidth =3)\n",
    "plot_test.title('Relation betwween PM2.5 levels and overall air quality (Train set)')\n",
    "plot_test.xlabel('AQI Value')\n",
    "plot_test.ylabel('PM2.5 AQI Value')\n",
    "plot_test.show()"
   ]
  },
  {
   "cell_type": "code",
   "execution_count": null,
   "id": "a5437989",
   "metadata": {},
   "outputs": [],
   "source": [
    "#Comments and thoughts:\n",
    "#The model was quite accurate, but this is not a challenging comparison: the correlation between overall air quality and PM2.5 particulates in the air are well known. Some caveats as noted above are data points with much lower PM2.5 values and AQI values than the regression line suggests: it would be interestng to look into these cases in more detail: isthere a cause and effect? What oteher factors might be going on here? How might the other data points impact on this?\n",
    "#There is some bis in the data: 500 is the maximum category represented in the data, and this will pull the estimations of the model down over multiple repetitons, making it less accurate. The absolute straight line of the data points in the middle range of the data set indicates a fixed correlation which mayhave been brought about throught the methodology used in data collection and/"
   ]
  },
  {
   "cell_type": "code",
   "execution_count": null,
   "id": "5a0a4377",
   "metadata": {},
   "outputs": [],
   "source": []
  },
  {
   "cell_type": "code",
   "execution_count": null,
   "id": "1b6d6a37",
   "metadata": {},
   "outputs": [],
   "source": []
  },
  {
   "cell_type": "code",
   "execution_count": null,
   "id": "8bc79b69",
   "metadata": {},
   "outputs": [],
   "source": []
  },
  {
   "cell_type": "code",
   "execution_count": null,
   "id": "7aa6cb57",
   "metadata": {},
   "outputs": [],
   "source": []
  },
  {
   "cell_type": "code",
   "execution_count": null,
   "id": "88a7f036",
   "metadata": {},
   "outputs": [],
   "source": []
  },
  {
   "cell_type": "code",
   "execution_count": null,
   "id": "2c9c341f",
   "metadata": {},
   "outputs": [],
   "source": []
  }
 ],
 "metadata": {
  "kernelspec": {
   "display_name": "Python 3 (ipykernel)",
   "language": "python",
   "name": "python3"
  },
  "language_info": {
   "codemirror_mode": {
    "name": "ipython",
    "version": 3
   },
   "file_extension": ".py",
   "mimetype": "text/x-python",
   "name": "python",
   "nbconvert_exporter": "python",
   "pygments_lexer": "ipython3",
   "version": "3.9.13"
  }
 },
 "nbformat": 4,
 "nbformat_minor": 5
}
